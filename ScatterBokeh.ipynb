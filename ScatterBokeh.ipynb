{
 "cells": [
  {
   "cell_type": "markdown",
   "metadata": {},
   "source": [
    "# Introduction"
   ]
  },
  {
   "cell_type": "markdown",
   "metadata": {},
   "source": [
    "## Purpose"
   ]
  },
  {
   "cell_type": "markdown",
   "metadata": {},
   "source": [
    "The idea is to generate a bokeh graph to interactively explore 2.5 dimensional scattered data from a netCDF document.\n",
    "\n",
    "On the basis of a netCDF document, an easy reproduceable example will be demonstrated. In the code showed below, we will produce a temperature-salinity diagram with colored chlorophyll data as z-data axis.\n",
    "\n",
    "The data comes from the publicity available socib data (www.socib.es)."
   ]
  },
  {
   "cell_type": "markdown",
   "metadata": {},
   "source": [
    "## Dependencies"
   ]
  },
  {
   "cell_type": "markdown",
   "metadata": {},
   "source": [
    "This example is based upon the following python packages:\n",
    "<ul>\n",
    "    <li>numpy</li>\n",
    "    <li>matplotlib</li>\n",
    "    <li>bokeh</li>\n",
    "    <li>netCDF4</li>\n",
    "</ul>\n",
    "\n",
    "Where the use of numpy, matplotlib and netCDF4 can be skipped, if the data (including color-codes) is coming from other sources."
   ]
  },
  {
   "cell_type": "markdown",
   "metadata": {},
   "source": [
    "# ScatterBokeh"
   ]
  },
  {
   "cell_type": "markdown",
   "metadata": {},
   "source": [
    "The following instructions will produce a bokeh-based temperature-salinity diagram with a colorbar specified by the input chlorophyll as z-axis.\n",
    "\n",
    "If needed, the whole code can be wrapped into an own package."
   ]
  },
  {
   "cell_type": "markdown",
   "metadata": {},
   "source": [
    "## Define data basis"
   ]
  },
  {
   "cell_type": "markdown",
   "metadata": {},
   "source": [
    "First of all, we will import the (for this example) necessary python packages:"
   ]
  },
  {
   "cell_type": "code",
   "execution_count": 1,
   "metadata": {
    "collapsed": true
   },
   "outputs": [],
   "source": [
    "import numpy as np\n",
    "from netCDF4 import Dataset\n",
    "import matplotlib.cm as cm\n",
    "from matplotlib import colors as mcolors\n",
    "from bokeh.plotting import figure\n",
    "from bokeh.models import Plot, Rect, Text\n",
    "from bokeh.models import Range1d\n",
    "from bokeh.io import output_notebook, show, gridplot, output_file"
   ]
  },
  {
   "cell_type": "markdown",
   "metadata": {},
   "source": [
    "Now we will define the input data source and will load the desired data columns from the netCDF file."
   ]
  },
  {
   "cell_type": "code",
   "execution_count": 2,
   "metadata": {
    "collapsed": true
   },
   "outputs": [],
   "source": [
    "root = Dataset('http://thredds.socib.es/thredds/dodsC/auv/glider/sdeep00-scb_sldeep000/L1/2015/dep0015_sdeep00_scb-sldeep000_L1_2015-08-19_data_dt.nc')\n",
    "temperature = root.variables.get('temperature')\n",
    "salinity = root.variables.get('salinity')\n",
    "chlorophyll = root.variables.get('chlorophyll')"
   ]
  },
  {
   "cell_type": "markdown",
   "metadata": {},
   "source": [
    "## Define functions"
   ]
  },
  {
   "cell_type": "markdown",
   "metadata": {},
   "source": [
    "To get the whole processing reasonably reproductive, we define some functions to extract and convert the data, as well as to outsource the whole plotting definitions."
   ]
  },
  {
   "cell_type": "markdown",
   "metadata": {},
   "source": [
    "### Data extraction, conversions"
   ]
  },
  {
   "cell_type": "markdown",
   "metadata": {},
   "source": [
    "Many netCDF variables (also those used in this example) are provided by an \\_FillValue attribute, NaN values will be overwritten with the \\_FillValue value. Since we can not benefit from this \\_FillValue, we will instead use np.nan values."
   ]
  },
  {
   "cell_type": "code",
   "execution_count": 3,
   "metadata": {
    "collapsed": true
   },
   "outputs": [],
   "source": [
    "def fill_with_nans(data_array):\n",
    "    fill_value = data_array._FillValue\n",
    "    data_array = get_data_array(data_array)\n",
    "    idx = np.where(data_array == fill_value)\n",
    "    data_array[idx] = np.nan\n",
    "    return data_array"
   ]
  },
  {
   "cell_type": "code",
   "execution_count": 4,
   "metadata": {
    "collapsed": true
   },
   "outputs": [],
   "source": [
    "def get_data_array(data_array):\n",
    "    if type(data_array.__array__()) is np.ma.masked_array:\n",
    "        return data_array.__array__().data\n",
    "    else:\n",
    "        return data_array.__array__()"
   ]
  },
  {
   "cell_type": "markdown",
   "metadata": {},
   "source": [
    "### Plot generation"
   ]
  },
  {
   "cell_type": "markdown",
   "metadata": {},
   "source": [
    "To get a matplotlib color palette for the bokeh plotting colors, we will convert the matplotlib rgb colors to hex data."
   ]
  },
  {
   "cell_type": "code",
   "execution_count": 5,
   "metadata": {
    "collapsed": true
   },
   "outputs": [],
   "source": [
    "def get_bokeh_palette(color_name):\n",
    "    colormap = cm.get_cmap(color_name) \n",
    "    bokeh_palette = [mcolors.rgb2hex(m) for m in colormap(np.arange(colormap.N))]\n",
    "    return bokeh_palette"
   ]
  },
  {
   "cell_type": "markdown",
   "metadata": {},
   "source": [
    "Furthermore, we have to assign the z-axis data (in our case the chlorophyll) to the defined color palette. Actually, we only provide a linear solution (256 same sized intervals). However, it is possible to extend this approach for logarithmic scales."
   ]
  },
  {
   "cell_type": "code",
   "execution_count": 6,
   "metadata": {
    "collapsed": true
   },
   "outputs": [],
   "source": [
    "def assign_data_to_color_palette(z_data, hex_palette):\n",
    "    data_min = np.nanmin(z_data)\n",
    "    data_max = np.nanmax(z_data)\n",
    "    abs_range = abs(data_min) + abs(data_max)\n",
    "    abs_range = abs_range/256.0\n",
    "\n",
    "    color_list=np.zeros(shape=(len(z_data),1),dtype=object)\n",
    "    counter = 0\n",
    "    for j in z_data:\n",
    "        color_list[counter] = \"\"\n",
    "        counter += 1\n",
    "\n",
    "    counter=1\n",
    "    lower_limit = data_min\n",
    "    for i in hex_palette:\n",
    "        upper_limit = data_min + abs_range*counter\n",
    "        test = np.where((z_data >= lower_limit) & (z_data <= upper_limit))\n",
    "        color_list[test] = i\n",
    "        counter += 1\n",
    "        lower_limit = upper_limit\n",
    "    return color_list"
   ]
  },
  {
   "cell_type": "markdown",
   "metadata": {},
   "source": [
    "Finally, we have to specify a bokeh plot together with our prior set specifications. The following function will return a bokeh grid instance."
   ]
  },
  {
   "cell_type": "code",
   "execution_count": 7,
   "metadata": {
    "collapsed": true
   },
   "outputs": [],
   "source": [
    "def plot_bokeh_scatter(x_data, y_data, z_color_list, bokeh_palette, title_label=\"\", x_label=\"\", y_label=\"\"):\n",
    "    fig = figure(title=title_name)\n",
    "    fig.scatter(x_data, y_data, fill_color=z_color_list[:,0], radius=0.001, fill_alpha=0.5, line_color=None)\n",
    "\n",
    "    xdr = Range1d(0, 250)\n",
    "    ydr = Range1d(0, 50)\n",
    "    plot = Plot(x_range=xdr,\n",
    "            y_range=ydr,\n",
    "            title=\"\",)\n",
    "\n",
    "    for index, color in enumerate(bokeh_palette):\n",
    "        width = 0.2\n",
    "        rect = Rect(\n",
    "            x=0, y=((width * index)),\n",
    "            width=20, height=1,\n",
    "            fill_color=color, line_color=None\n",
    "        )\n",
    "        plot.add_glyph(rect)\n",
    "    zero = Text(x=20, y=0, text=[str(data_min)])\n",
    "    hundred = Text(x=20, y=48, text=[str(data_max)])\n",
    "    plot.add_glyph(zero)\n",
    "    plot.add_glyph(hundred)\n",
    "    plot.outline_line_color=None \n",
    "    fig.xaxis.axis_label=x_axis_label\n",
    "    fig.yaxis.axis_label=y_axis_label\n",
    "    p = gridplot([[fig, plot]])\n",
    "    return p"
   ]
  },
  {
   "cell_type": "markdown",
   "metadata": {},
   "source": [
    "## Rearrange and plot the data"
   ]
  },
  {
   "cell_type": "code",
   "execution_count": null,
   "metadata": {
    "collapsed": true
   },
   "outputs": [],
   "source": []
  }
 ],
 "metadata": {
  "kernelspec": {
   "display_name": "Python 2",
   "language": "python",
   "name": "python2"
  },
  "language_info": {
   "codemirror_mode": {
    "name": "ipython",
    "version": 2
   },
   "file_extension": ".py",
   "mimetype": "text/x-python",
   "name": "python",
   "nbconvert_exporter": "python",
   "pygments_lexer": "ipython2",
   "version": "2.7.6"
  }
 },
 "nbformat": 4,
 "nbformat_minor": 0
}
